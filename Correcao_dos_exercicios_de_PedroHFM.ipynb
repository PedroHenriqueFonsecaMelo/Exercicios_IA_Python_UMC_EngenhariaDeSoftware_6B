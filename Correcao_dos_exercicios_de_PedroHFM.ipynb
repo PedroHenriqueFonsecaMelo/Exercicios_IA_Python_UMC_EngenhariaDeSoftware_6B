{
  "cells": [
    {
      "cell_type": "markdown",
      "metadata": {
        "id": "view-in-github",
        "colab_type": "text"
      },
      "source": [
        "<a href=\"https://colab.research.google.com/github/PedroHenriqueFonsecaMelo/Exercicios_IA_Python_UMC_EngenhariaDeSoftware_6B/blob/main/Correcao_dos_exercicios_de_PedroHFM.ipynb\" target=\"_parent\"><img src=\"https://colab.research.google.com/assets/colab-badge.svg\" alt=\"Open In Colab\"/></a>"
      ]
    },
    {
      "cell_type": "markdown",
      "id": "25dfe8d5",
      "metadata": {
        "id": "25dfe8d5"
      },
      "source": [
        "# 🎓 Comparação de Técnicas de Codificação Categórica com SVM\n",
        "Este notebook demonstra como aplicar e comparar **Label Encoding** e **One-Hot Encoding** em variáveis categóricas, com foco no uso de **SVM** para classificação.\n",
        "\n",
        "Inclui exemplos com os datasets `iris`, `titanic` e `penguins`, todos acompanhados de explicações, visualizações e análises didáticas."
      ]
    },
    {
      "cell_type": "code",
      "execution_count": null,
      "id": "bb2ee829",
      "metadata": {
        "id": "bb2ee829"
      },
      "outputs": [],
      "source": [
        "import pandas as pd\n",
        "import numpy as np\n",
        "import seaborn as sns\n",
        "import matplotlib.pyplot as plt\n",
        "\n",
        "from sklearn.datasets import load_iris\n",
        "from sklearn.preprocessing import LabelEncoder, OneHotEncoder, StandardScaler\n",
        "from sklearn.model_selection import train_test_split\n",
        "from sklearn.svm import SVC\n",
        "from sklearn.metrics import accuracy_score"
      ]
    },
    {
      "cell_type": "markdown",
      "id": "200f646b",
      "metadata": {
        "id": "200f646b"
      },
      "source": [
        "### 🧠 Objetivo Geral\n",
        "Este notebook tem como objetivo ensinar como aplicar diferentes técnicas de codificação de variáveis categóricas e entender suas implicações na modelagem com SVM (Support Vector Machine).\n",
        "\n",
        "Você aprenderá a:\n",
        "- Aplicar Label Encoding e One-Hot Encoding\n",
        "- Entender quando cada abordagem é adequada\n",
        "- Lidar com o formato esperado pelo SVM\n",
        "- Interpretar erros comuns e como resolvê-los"
      ]
    },
    {
      "cell_type": "markdown",
      "id": "5a2b9053",
      "metadata": {
        "id": "5a2b9053"
      },
      "source": [
        "## 🟢 Exercício 1 – Dataset `iris`\n",
        "Neste exemplo, vamos aplicar **Label Encoding** e **One-Hot Encoding** no vetor alvo (`species`).\n",
        "- Mostraremos por que One-Hot precisa ser reconvertido com `argmax()` antes de treinar um modelo `SVC`.\n",
        "- Também compararemos visualmente os formatos."
      ]
    },
    {
      "cell_type": "code",
      "execution_count": null,
      "id": "fbb225a4",
      "metadata": {
        "id": "fbb225a4"
      },
      "outputs": [],
      "source": [
        "# Carregar dataset\n",
        "iris = load_iris(as_frame=True)\n",
        "X = iris.data\n",
        "species = iris.target_names[iris.target]"
      ]
    },
    {
      "cell_type": "code",
      "execution_count": null,
      "id": "7175179f",
      "metadata": {
        "colab": {
          "base_uri": "https://localhost:8080/"
        },
        "id": "7175179f",
        "outputId": "4e51cc9a-2b61-440a-e9bb-2742c70ec106"
      },
      "outputs": [
        {
          "output_type": "stream",
          "name": "stdout",
          "text": [
            "Label Encoding (y): [0 0 0 0 0]\n"
          ]
        }
      ],
      "source": [
        "# Aplicando Label Encoding\n",
        "le = LabelEncoder()\n",
        "y_label = le.fit_transform(species)\n",
        "print(\"Label Encoding (y):\", y_label[:5])"
      ]
    },
    {
      "cell_type": "markdown",
      "id": "4c28ae33",
      "metadata": {
        "id": "4c28ae33"
      },
      "source": [
        "### ℹ️ Por que o SVM não aceita diretamente One-Hot Encoding no alvo (y)?\n",
        "O modelo `SVC()` espera que o vetor alvo (`y`) seja **unidimensional**, contendo rótulos categóricos como inteiros ou strings.\n",
        "\n",
        "Quando aplicamos One-Hot Encoding no `y`, ele se torna uma **matriz binária**, com múltiplas colunas. Isso quebra a expectativa do modelo.\n",
        "\n",
        "**Solução:** usamos `np.argmax(y_oh, axis=1)` para reconverter cada vetor binário para o índice da classe (como `0`, `1`, `2`)."
      ]
    },
    {
      "cell_type": "code",
      "execution_count": null,
      "id": "7bd0af24",
      "metadata": {
        "colab": {
          "base_uri": "https://localhost:8080/"
        },
        "id": "7bd0af24",
        "outputId": "61fefa1a-6092-4135-aeb7-8dc19234ac26"
      },
      "outputs": [
        {
          "output_type": "stream",
          "name": "stdout",
          "text": [
            "One-Hot Encoding (y):\n",
            " [[1. 0. 0.]\n",
            " [1. 0. 0.]\n",
            " [1. 0. 0.]\n",
            " [1. 0. 0.]\n",
            " [1. 0. 0.]]\n"
          ]
        }
      ],
      "source": [
        "# Aplicando One-Hot Encoding no target\n",
        "enc = OneHotEncoder(sparse_output=False)\n",
        "y_oh = enc.fit_transform(species.reshape(-1, 1))\n",
        "print(\"One-Hot Encoding (y):\\n\", y_oh[:5])"
      ]
    },
    {
      "cell_type": "code",
      "execution_count": null,
      "id": "297f25fd",
      "metadata": {
        "colab": {
          "base_uri": "https://localhost:8080/"
        },
        "id": "297f25fd",
        "outputId": "3b2d53db-8edf-4cac-d8fc-acc7456d5a12"
      },
      "outputs": [
        {
          "output_type": "stream",
          "name": "stdout",
          "text": [
            "Reconversão (y): [0 0 0 0 0]\n"
          ]
        }
      ],
      "source": [
        "# Reconversão com argmax (para uso com SVC)\n",
        "y_oh_labels = np.argmax(y_oh, axis=1)\n",
        "print(\"Reconversão (y):\", y_oh_labels[:5])"
      ]
    },
    {
      "cell_type": "code",
      "execution_count": null,
      "id": "83dccdec",
      "metadata": {
        "colab": {
          "base_uri": "https://localhost:8080/"
        },
        "id": "83dccdec",
        "outputId": "5a8aa258-76b5-40c4-c6e7-c8e6048af43b"
      },
      "outputs": [
        {
          "output_type": "stream",
          "name": "stdout",
          "text": [
            "Acurácia com Label Encoding: 1.0\n"
          ]
        }
      ],
      "source": [
        "# Treinar com Label Encoding\n",
        "X_train, X_test, y_train, y_test = train_test_split(X, y_label, test_size=0.3, random_state=42)\n",
        "model_label = SVC(kernel='linear')\n",
        "model_label.fit(X_train, y_train)\n",
        "acc_label = accuracy_score(y_test, model_label.predict(X_test))\n",
        "print(\"Acurácia com Label Encoding:\", round(acc_label, 2))"
      ]
    },
    {
      "cell_type": "code",
      "execution_count": null,
      "id": "0792ad86",
      "metadata": {
        "colab": {
          "base_uri": "https://localhost:8080/"
        },
        "id": "0792ad86",
        "outputId": "76598850-08de-404b-ed2f-1dd6503fc91c"
      },
      "outputs": [
        {
          "output_type": "stream",
          "name": "stdout",
          "text": [
            "Acurácia com One-Hot (convertido): 1.0\n"
          ]
        }
      ],
      "source": [
        "# Treinar com One-Hot reconvertido\n",
        "X_train, X_test, y_train, y_test = train_test_split(X, y_oh_labels, test_size=0.3, random_state=42)\n",
        "model_oh = SVC(kernel='linear')\n",
        "model_oh.fit(X_train, y_train)\n",
        "acc_oh = accuracy_score(y_test, model_oh.predict(X_test))\n",
        "print(\"Acurácia com One-Hot (convertido):\", round(acc_oh, 2))"
      ]
    },
    {
      "cell_type": "markdown",
      "id": "a0f38cb4",
      "metadata": {
        "id": "a0f38cb4"
      },
      "source": [
        "## 🟡 Exercício 2 – Dataset `titanic`\n",
        "Neste exemplo, aplicamos codificação nas features categóricas (`sex`, `embarked`, `class`) para prever `survived`.\n",
        "\n",
        "- Usaremos Label Encoding e One-Hot Encoding nas features.\n",
        "- Compararemos o desempenho no SVM."
      ]
    },
    {
      "cell_type": "code",
      "execution_count": null,
      "id": "0f8d7ba5",
      "metadata": {
        "id": "0f8d7ba5"
      },
      "outputs": [],
      "source": [
        "# Carregar dataset Titanic\n",
        "df = sns.load_dataset('titanic').dropna(subset=['sex', 'embarked', 'class', 'age', 'survived'])\n",
        "features = ['sex', 'embarked', 'class', 'age']\n",
        "target = 'survived'"
      ]
    },
    {
      "cell_type": "code",
      "execution_count": null,
      "id": "3f930e5e",
      "metadata": {
        "colab": {
          "base_uri": "https://localhost:8080/"
        },
        "id": "3f930e5e",
        "outputId": "9696f540-3701-4b43-9098-db999867916c"
      },
      "outputs": [
        {
          "output_type": "stream",
          "name": "stdout",
          "text": [
            "Acurácia com Label Encoding: 0.75\n"
          ]
        }
      ],
      "source": [
        "# Label Encoding nas features\n",
        "le_sex = LabelEncoder()\n",
        "le_emb = LabelEncoder()\n",
        "le_class = LabelEncoder()\n",
        "df_label = df.copy()\n",
        "df_label['sex'] = le_sex.fit_transform(df['sex'])\n",
        "df_label['embarked'] = le_emb.fit_transform(df['embarked'])\n",
        "df_label['class'] = le_class.fit_transform(df['class'])\n",
        "X_label = df_label[features]\n",
        "y = df_label[target]\n",
        "scaler = StandardScaler()\n",
        "X_train, X_test, y_train, y_test = train_test_split(X_label, y, test_size=0.3, random_state=42)\n",
        "X_train = scaler.fit_transform(X_train)\n",
        "X_test = scaler.transform(X_test)\n",
        "model = SVC(kernel='linear')\n",
        "model.fit(X_train, y_train)\n",
        "acc_label = accuracy_score(y_test, model.predict(X_test))\n",
        "print(\"Acurácia com Label Encoding:\", round(acc_label, 2))"
      ]
    },
    {
      "cell_type": "code",
      "execution_count": null,
      "id": "0d8e899c",
      "metadata": {
        "colab": {
          "base_uri": "https://localhost:8080/"
        },
        "id": "0d8e899c",
        "outputId": "48d5e955-a755-45e7-f74e-3d0dca515015"
      },
      "outputs": [
        {
          "output_type": "stream",
          "name": "stdout",
          "text": [
            "Acurácia com One-Hot Encoding: 0.75\n"
          ]
        }
      ],
      "source": [
        "# One-Hot Encoding nas features\n",
        "X_oh = pd.get_dummies(df[features])\n",
        "y = df[target]\n",
        "X_train, X_test, y_train, y_test = train_test_split(X_oh, y, test_size=0.3, random_state=42)\n",
        "X_train = scaler.fit_transform(X_train)\n",
        "X_test = scaler.transform(X_test)\n",
        "model = SVC(kernel='linear')\n",
        "model.fit(X_train, y_train)\n",
        "acc_oh = accuracy_score(y_test, model.predict(X_test))\n",
        "print(\"Acurácia com One-Hot Encoding:\", round(acc_oh, 2))"
      ]
    },
    {
      "cell_type": "markdown",
      "id": "690e96e1",
      "metadata": {
        "id": "690e96e1"
      },
      "source": [
        "## 🔴 Exercício 3 – Dataset `penguins`\n",
        "Neste exemplo, comparamos Label Encoding e One-Hot Encoding tanto nas features quanto no alvo (`species`).\n",
        "\n",
        "- Também demonstraremos por que One-Hot no alvo precisa ser reconvertido com `argmax()`."
      ]
    },
    {
      "cell_type": "code",
      "execution_count": null,
      "id": "adfd8cb9",
      "metadata": {
        "id": "adfd8cb9"
      },
      "outputs": [],
      "source": [
        "# Carregar dataset Penguins\n",
        "penguins = sns.load_dataset('penguins').dropna()\n",
        "cat_cols = ['island', 'sex']\n",
        "num_cols = ['bill_length_mm', 'bill_depth_mm', 'flipper_length_mm', 'body_mass_g']\n",
        "le1, le2, le3 = LabelEncoder(), LabelEncoder(), LabelEncoder()\n",
        "X_label = penguins[cat_cols + num_cols].copy()\n",
        "X_label['island'] = le1.fit_transform(X_label['island'])\n",
        "X_label['sex'] = le2.fit_transform(X_label['sex'])\n",
        "y_label = le3.fit_transform(penguins['species'])"
      ]
    },
    {
      "cell_type": "code",
      "execution_count": null,
      "id": "f9680088",
      "metadata": {
        "colab": {
          "base_uri": "https://localhost:8080/"
        },
        "id": "f9680088",
        "outputId": "157ece6d-f6b7-4253-d2e7-d6e8780dede6"
      },
      "outputs": [
        {
          "output_type": "stream",
          "name": "stdout",
          "text": [
            "Exemplo One-Hot:\n",
            "[[1. 0. 0.]\n",
            " [1. 0. 0.]\n",
            " [1. 0. 0.]\n",
            " [1. 0. 0.]\n",
            " [1. 0. 0.]]\n",
            "Reconversão: [0 0 0 0 0]\n"
          ]
        }
      ],
      "source": [
        "# One-Hot no alvo (y), reconvertendo com argmax\n",
        "ohe = OneHotEncoder(sparse_output=False)\n",
        "y_oh = ohe.fit_transform(penguins[['species']])\n",
        "y_oh_labels = np.argmax(y_oh, axis=1)\n",
        "print(\"Exemplo One-Hot:\")\n",
        "print(y_oh[:5])\n",
        "print(\"Reconversão:\", y_oh_labels[:5])"
      ]
    },
    {
      "cell_type": "code",
      "execution_count": null,
      "id": "ad0c700a",
      "metadata": {
        "colab": {
          "base_uri": "https://localhost:8080/"
        },
        "id": "ad0c700a",
        "outputId": "b44a0839-a16e-4d20-aa7e-390fab4aa52e"
      },
      "outputs": [
        {
          "output_type": "stream",
          "name": "stdout",
          "text": [
            "Acurácia com Label Encoding: 0.99\n"
          ]
        }
      ],
      "source": [
        "# SVM com Label Encoding\n",
        "scaler = StandardScaler()\n",
        "X_train, X_test, y_train, y_test = train_test_split(X_label, y_label, test_size=0.3, random_state=42)\n",
        "X_train = scaler.fit_transform(X_train)\n",
        "X_test = scaler.transform(X_test)\n",
        "model = SVC(kernel='linear')\n",
        "model.fit(X_train, y_train)\n",
        "acc_label = accuracy_score(y_test, model.predict(X_test))\n",
        "print(\"Acurácia com Label Encoding:\", round(acc_label, 2))"
      ]
    },
    {
      "cell_type": "code",
      "execution_count": null,
      "id": "2cb29024",
      "metadata": {
        "colab": {
          "base_uri": "https://localhost:8080/"
        },
        "id": "2cb29024",
        "outputId": "752ef45e-5efd-4f5d-93a7-6da57092ee15"
      },
      "outputs": [
        {
          "output_type": "stream",
          "name": "stdout",
          "text": [
            "Acurácia com One-Hot (convertido): 1.0\n"
          ]
        }
      ],
      "source": [
        "# One-Hot nas features + reconvertido no y\n",
        "X_oh = pd.get_dummies(penguins[cat_cols + num_cols])\n",
        "X_train, X_test, y_train, y_test = train_test_split(X_oh, y_oh_labels, test_size=0.3, random_state=42)\n",
        "X_train = scaler.fit_transform(X_train)\n",
        "X_test = scaler.transform(X_test)\n",
        "model = SVC(kernel='linear')\n",
        "model.fit(X_train, y_train)\n",
        "acc_oh = accuracy_score(y_test, model.predict(X_test))\n",
        "print(\"Acurácia com One-Hot (convertido):\", round(acc_oh, 2))"
      ]
    },
    {
      "cell_type": "markdown",
      "id": "B-ASzKuNznJQ",
      "metadata": {
        "id": "B-ASzKuNznJQ"
      },
      "source": [
        "## 🧪 Exercícios Propostos para Prática\n",
        "A seguir, propomos três exercícios para reforçar o entendimento sobre codificação de variáveis categóricas e aplicação de SVM.\n",
        "\n",
        "### 🔹 Exercício 4 – Dataset `tips`\n",
        "- Carregue o dataset `tips` do seaborn.\n",
        "- Use as colunas `sex`, `smoker`, `day`, `time` como features categóricas.\n",
        "- Aplique Label Encoding e One-Hot Encoding para prever se a gorjeta foi maior que a média (coluna binária criada).\n",
        "- Compare as acurácias dos dois modelos com SVM.\n",
        "\n",
        "### 🔹 Exercício 5 – Dataset `diamonds`\n",
        "- Use o dataset `diamonds` do seaborn.\n",
        "- Converta a variável `cut` (categórica ordinal) com Label Encoding.\n",
        "- Aplique One-Hot Encoding nas variáveis `color` e `clarity`.\n",
        "- Crie uma variável alvo binária para prever se o preço é acima da mediana.\n",
        "- Treine dois modelos SVM e compare os resultados.\n",
        "\n",
        "### 🔹 Exercício 6 – Dataset `car_crashes`\n",
        "- Use o dataset `car_crashes` do seaborn.\n",
        "- Transforme o campo `abbrev` (sigla do estado) com Label e One-Hot.\n",
        "- Crie uma variável alvo categórica que representa a taxa de mortes por 100 mil (acima ou abaixo da média).\n",
        "- Aplique SVM com ambas as codificações e discuta os resultados.\n",
        "\n",
        "💡 **Dica:** Use `StandardScaler()` para normalizar os dados antes de treinar o modelo SVM.\n",
        "\n",
        "---\n",
        "**Esses exercícios visam consolidar o entendimento da transformação de dados categóricos e avaliar seu impacto na modelagem preditiva.**"
      ]
    },
    {
      "cell_type": "markdown",
      "id": "8NZe_NqmBa_V",
      "metadata": {
        "id": "8NZe_NqmBa_V"
      },
      "source": [
        "======================================/==================================="
      ]
    },
    {
      "cell_type": "markdown",
      "id": "rO3YRj4G_3UU",
      "metadata": {
        "id": "rO3YRj4G_3UU"
      },
      "source": [
        "### 🔹 Exercício 4 – Dataset `tips`\n",
        "- Carregue o dataset `tips` do seaborn.\n",
        "- Use as colunas `sex`, `smoker`, `day`, `time` como features categóricas.\n",
        "- Aplique Label Encoding e One-Hot Encoding para prever se a gorjeta foi maior que a média (coluna binária criada).\n",
        "- Compare as acurácias dos dois modelos com SVM."
      ]
    },
    {
      "cell_type": "code",
      "execution_count": null,
      "id": "G4P_Tqdt_lnz",
      "metadata": {
        "id": "G4P_Tqdt_lnz"
      },
      "outputs": [],
      "source": [
        "tips = sns.load_dataset('tips').dropna()\n",
        "features = ['sex', 'smoker', 'day','time']\n",
        "target = 'day'"
      ]
    },
    {
      "cell_type": "code",
      "execution_count": null,
      "id": "Hz4hEbulAXk0",
      "metadata": {
        "colab": {
          "base_uri": "https://localhost:8080/"
        },
        "id": "Hz4hEbulAXk0",
        "outputId": "e1d347e8-472f-4117-f495-83a385699406"
      },
      "outputs": [
        {
          "output_type": "stream",
          "name": "stdout",
          "text": [
            "Acurácia com Label Encoding: 1.0\n"
          ]
        }
      ],
      "source": [
        "# Label Encoding nas features\n",
        "encoder = LabelEncoder()\n",
        "df_label = tips.copy()\n",
        "\n",
        "for col in features:\n",
        "    df_label[str(col)] = encoder.fit_transform(tips[str(col)])\n",
        "\n",
        "X_label = df_label[features]\n",
        "y = df_label[target]\n",
        "\n",
        "scaler = StandardScaler()\n",
        "\n",
        "X_train, X_test, y_train, y_test = train_test_split(X_label, y, test_size=0.3, random_state=42)\n",
        "X_train = scaler.fit_transform(X_train)\n",
        "X_test = scaler.transform(X_test)\n",
        "\n",
        "model = SVC(kernel='linear')\n",
        "model.fit(X_train, y_train)\n",
        "\n",
        "acc_label = accuracy_score(y_test, model.predict(X_test))\n",
        "print(\"Acurácia com Label Encoding:\", round(acc_label, 2))"
      ]
    },
    {
      "cell_type": "code",
      "execution_count": null,
      "id": "SpQaKUVOBAdE",
      "metadata": {
        "colab": {
          "base_uri": "https://localhost:8080/"
        },
        "id": "SpQaKUVOBAdE",
        "outputId": "0db50d70-e454-4e03-f66b-b20b764a6b89"
      },
      "outputs": [
        {
          "output_type": "stream",
          "name": "stdout",
          "text": [
            "Acurácia com One-Hot Encoding: 1.0\n"
          ]
        }
      ],
      "source": [
        "# One-Hot Encoding nas features\n",
        "X_oh = pd.get_dummies(tips[features])\n",
        "y = tips[target]\n",
        "\n",
        "X_train, X_test, y_train, y_test = train_test_split(X_oh, y, test_size=0.3, random_state=42)\n",
        "X_train = scaler.fit_transform(X_train)\n",
        "X_test = scaler.transform(X_test)\n",
        "\n",
        "model = SVC(kernel='linear')\n",
        "model.fit(X_train, y_train)\n",
        "acc_oh = accuracy_score(y_test, model.predict(X_test))\n",
        "print(\"Acurácia com One-Hot Encoding:\", round(acc_oh, 2))"
      ]
    },
    {
      "cell_type": "markdown",
      "id": "MoKYdONzBQRs",
      "metadata": {
        "id": "MoKYdONzBQRs"
      },
      "source": [
        "### 🔹 Exercício 5 – Dataset `diamonds`\n",
        "- Use o dataset `diamonds` do seaborn.\n",
        "- Converta a variável `cut` (categórica ordinal) com Label Encoding.\n",
        "- Aplique One-Hot Encoding nas variáveis `color` e `clarity`.\n",
        "- Crie uma variável alvo binária para prever se o preço é acima da mediana.\n",
        "- Treine dois modelos SVM e compare os resultados."
      ]
    },
    {
      "cell_type": "code",
      "execution_count": null,
      "id": "3_-4kAtxBW_U",
      "metadata": {
        "collapsed": true,
        "id": "3_-4kAtxBW_U"
      },
      "outputs": [],
      "source": [
        "diamonds = sns.load_dataset('diamonds').dropna()"
      ]
    },
    {
      "cell_type": "code",
      "execution_count": null,
      "id": "x-CrPxXmPsT7",
      "metadata": {
        "colab": {
          "base_uri": "https://localhost:8080/",
          "height": 235
        },
        "id": "x-CrPxXmPsT7",
        "outputId": "bac9dc1b-25e8-4d82-a33b-e840325b4251"
      },
      "outputs": [
        {
          "output_type": "execute_result",
          "data": {
            "text/plain": [
              "   carat  cut  depth  table  price   x   y   z  color_0  color_1  ...  \\\n",
              "0      3    2     83     30      0  20  26  24    False     True  ...   \n",
              "1      1    3     66     90      0  14  12  12    False     True  ...   \n",
              "2      3    1     37    115      1  30  35  12    False     True  ...   \n",
              "3      9    3     92     60      2  45  51  44    False    False  ...   \n",
              "4     11    1    101     60      3  59  63  56    False    False  ...   \n",
              "\n",
              "   color_5  color_6  clarity_0  clarity_1  clarity_2  clarity_3  clarity_4  \\\n",
              "0    False    False      False      False      False       True      False   \n",
              "1    False    False      False      False       True      False      False   \n",
              "2    False    False      False      False      False      False       True   \n",
              "3     True    False      False      False      False      False      False   \n",
              "4    False     True      False      False      False       True      False   \n",
              "\n",
              "   clarity_5  clarity_6  clarity_7  \n",
              "0      False      False      False  \n",
              "1      False      False      False  \n",
              "2      False      False      False  \n",
              "3       True      False      False  \n",
              "4      False      False      False  \n",
              "\n",
              "[5 rows x 23 columns]"
            ],
            "text/html": [
              "\n",
              "  <div id=\"df-405d0996-a376-4d8e-989b-c0bbf1b2c683\" class=\"colab-df-container\">\n",
              "    <div>\n",
              "<style scoped>\n",
              "    .dataframe tbody tr th:only-of-type {\n",
              "        vertical-align: middle;\n",
              "    }\n",
              "\n",
              "    .dataframe tbody tr th {\n",
              "        vertical-align: top;\n",
              "    }\n",
              "\n",
              "    .dataframe thead th {\n",
              "        text-align: right;\n",
              "    }\n",
              "</style>\n",
              "<table border=\"1\" class=\"dataframe\">\n",
              "  <thead>\n",
              "    <tr style=\"text-align: right;\">\n",
              "      <th></th>\n",
              "      <th>carat</th>\n",
              "      <th>cut</th>\n",
              "      <th>depth</th>\n",
              "      <th>table</th>\n",
              "      <th>price</th>\n",
              "      <th>x</th>\n",
              "      <th>y</th>\n",
              "      <th>z</th>\n",
              "      <th>color_0</th>\n",
              "      <th>color_1</th>\n",
              "      <th>...</th>\n",
              "      <th>color_5</th>\n",
              "      <th>color_6</th>\n",
              "      <th>clarity_0</th>\n",
              "      <th>clarity_1</th>\n",
              "      <th>clarity_2</th>\n",
              "      <th>clarity_3</th>\n",
              "      <th>clarity_4</th>\n",
              "      <th>clarity_5</th>\n",
              "      <th>clarity_6</th>\n",
              "      <th>clarity_7</th>\n",
              "    </tr>\n",
              "  </thead>\n",
              "  <tbody>\n",
              "    <tr>\n",
              "      <th>0</th>\n",
              "      <td>3</td>\n",
              "      <td>2</td>\n",
              "      <td>83</td>\n",
              "      <td>30</td>\n",
              "      <td>0</td>\n",
              "      <td>20</td>\n",
              "      <td>26</td>\n",
              "      <td>24</td>\n",
              "      <td>False</td>\n",
              "      <td>True</td>\n",
              "      <td>...</td>\n",
              "      <td>False</td>\n",
              "      <td>False</td>\n",
              "      <td>False</td>\n",
              "      <td>False</td>\n",
              "      <td>False</td>\n",
              "      <td>True</td>\n",
              "      <td>False</td>\n",
              "      <td>False</td>\n",
              "      <td>False</td>\n",
              "      <td>False</td>\n",
              "    </tr>\n",
              "    <tr>\n",
              "      <th>1</th>\n",
              "      <td>1</td>\n",
              "      <td>3</td>\n",
              "      <td>66</td>\n",
              "      <td>90</td>\n",
              "      <td>0</td>\n",
              "      <td>14</td>\n",
              "      <td>12</td>\n",
              "      <td>12</td>\n",
              "      <td>False</td>\n",
              "      <td>True</td>\n",
              "      <td>...</td>\n",
              "      <td>False</td>\n",
              "      <td>False</td>\n",
              "      <td>False</td>\n",
              "      <td>False</td>\n",
              "      <td>True</td>\n",
              "      <td>False</td>\n",
              "      <td>False</td>\n",
              "      <td>False</td>\n",
              "      <td>False</td>\n",
              "      <td>False</td>\n",
              "    </tr>\n",
              "    <tr>\n",
              "      <th>2</th>\n",
              "      <td>3</td>\n",
              "      <td>1</td>\n",
              "      <td>37</td>\n",
              "      <td>115</td>\n",
              "      <td>1</td>\n",
              "      <td>30</td>\n",
              "      <td>35</td>\n",
              "      <td>12</td>\n",
              "      <td>False</td>\n",
              "      <td>True</td>\n",
              "      <td>...</td>\n",
              "      <td>False</td>\n",
              "      <td>False</td>\n",
              "      <td>False</td>\n",
              "      <td>False</td>\n",
              "      <td>False</td>\n",
              "      <td>False</td>\n",
              "      <td>True</td>\n",
              "      <td>False</td>\n",
              "      <td>False</td>\n",
              "      <td>False</td>\n",
              "    </tr>\n",
              "    <tr>\n",
              "      <th>3</th>\n",
              "      <td>9</td>\n",
              "      <td>3</td>\n",
              "      <td>92</td>\n",
              "      <td>60</td>\n",
              "      <td>2</td>\n",
              "      <td>45</td>\n",
              "      <td>51</td>\n",
              "      <td>44</td>\n",
              "      <td>False</td>\n",
              "      <td>False</td>\n",
              "      <td>...</td>\n",
              "      <td>True</td>\n",
              "      <td>False</td>\n",
              "      <td>False</td>\n",
              "      <td>False</td>\n",
              "      <td>False</td>\n",
              "      <td>False</td>\n",
              "      <td>False</td>\n",
              "      <td>True</td>\n",
              "      <td>False</td>\n",
              "      <td>False</td>\n",
              "    </tr>\n",
              "    <tr>\n",
              "      <th>4</th>\n",
              "      <td>11</td>\n",
              "      <td>1</td>\n",
              "      <td>101</td>\n",
              "      <td>60</td>\n",
              "      <td>3</td>\n",
              "      <td>59</td>\n",
              "      <td>63</td>\n",
              "      <td>56</td>\n",
              "      <td>False</td>\n",
              "      <td>False</td>\n",
              "      <td>...</td>\n",
              "      <td>False</td>\n",
              "      <td>True</td>\n",
              "      <td>False</td>\n",
              "      <td>False</td>\n",
              "      <td>False</td>\n",
              "      <td>True</td>\n",
              "      <td>False</td>\n",
              "      <td>False</td>\n",
              "      <td>False</td>\n",
              "      <td>False</td>\n",
              "    </tr>\n",
              "  </tbody>\n",
              "</table>\n",
              "<p>5 rows × 23 columns</p>\n",
              "</div>\n",
              "    <div class=\"colab-df-buttons\">\n",
              "\n",
              "  <div class=\"colab-df-container\">\n",
              "    <button class=\"colab-df-convert\" onclick=\"convertToInteractive('df-405d0996-a376-4d8e-989b-c0bbf1b2c683')\"\n",
              "            title=\"Convert this dataframe to an interactive table.\"\n",
              "            style=\"display:none;\">\n",
              "\n",
              "  <svg xmlns=\"http://www.w3.org/2000/svg\" height=\"24px\" viewBox=\"0 -960 960 960\">\n",
              "    <path d=\"M120-120v-720h720v720H120Zm60-500h600v-160H180v160Zm220 220h160v-160H400v160Zm0 220h160v-160H400v160ZM180-400h160v-160H180v160Zm440 0h160v-160H620v160ZM180-180h160v-160H180v160Zm440 0h160v-160H620v160Z\"/>\n",
              "  </svg>\n",
              "    </button>\n",
              "\n",
              "  <style>\n",
              "    .colab-df-container {\n",
              "      display:flex;\n",
              "      gap: 12px;\n",
              "    }\n",
              "\n",
              "    .colab-df-convert {\n",
              "      background-color: #E8F0FE;\n",
              "      border: none;\n",
              "      border-radius: 50%;\n",
              "      cursor: pointer;\n",
              "      display: none;\n",
              "      fill: #1967D2;\n",
              "      height: 32px;\n",
              "      padding: 0 0 0 0;\n",
              "      width: 32px;\n",
              "    }\n",
              "\n",
              "    .colab-df-convert:hover {\n",
              "      background-color: #E2EBFA;\n",
              "      box-shadow: 0px 1px 2px rgba(60, 64, 67, 0.3), 0px 1px 3px 1px rgba(60, 64, 67, 0.15);\n",
              "      fill: #174EA6;\n",
              "    }\n",
              "\n",
              "    .colab-df-buttons div {\n",
              "      margin-bottom: 4px;\n",
              "    }\n",
              "\n",
              "    [theme=dark] .colab-df-convert {\n",
              "      background-color: #3B4455;\n",
              "      fill: #D2E3FC;\n",
              "    }\n",
              "\n",
              "    [theme=dark] .colab-df-convert:hover {\n",
              "      background-color: #434B5C;\n",
              "      box-shadow: 0px 1px 3px 1px rgba(0, 0, 0, 0.15);\n",
              "      filter: drop-shadow(0px 1px 2px rgba(0, 0, 0, 0.3));\n",
              "      fill: #FFFFFF;\n",
              "    }\n",
              "  </style>\n",
              "\n",
              "    <script>\n",
              "      const buttonEl =\n",
              "        document.querySelector('#df-405d0996-a376-4d8e-989b-c0bbf1b2c683 button.colab-df-convert');\n",
              "      buttonEl.style.display =\n",
              "        google.colab.kernel.accessAllowed ? 'block' : 'none';\n",
              "\n",
              "      async function convertToInteractive(key) {\n",
              "        const element = document.querySelector('#df-405d0996-a376-4d8e-989b-c0bbf1b2c683');\n",
              "        const dataTable =\n",
              "          await google.colab.kernel.invokeFunction('convertToInteractive',\n",
              "                                                    [key], {});\n",
              "        if (!dataTable) return;\n",
              "\n",
              "        const docLinkHtml = 'Like what you see? Visit the ' +\n",
              "          '<a target=\"_blank\" href=https://colab.research.google.com/notebooks/data_table.ipynb>data table notebook</a>'\n",
              "          + ' to learn more about interactive tables.';\n",
              "        element.innerHTML = '';\n",
              "        dataTable['output_type'] = 'display_data';\n",
              "        await google.colab.output.renderOutput(dataTable, element);\n",
              "        const docLink = document.createElement('div');\n",
              "        docLink.innerHTML = docLinkHtml;\n",
              "        element.appendChild(docLink);\n",
              "      }\n",
              "    </script>\n",
              "  </div>\n",
              "\n",
              "\n",
              "<div id=\"df-e623ee23-3534-4679-80ff-877bb4ef04b7\">\n",
              "  <button class=\"colab-df-quickchart\" onclick=\"quickchart('df-e623ee23-3534-4679-80ff-877bb4ef04b7')\"\n",
              "            title=\"Suggest charts\"\n",
              "            style=\"display:none;\">\n",
              "\n",
              "<svg xmlns=\"http://www.w3.org/2000/svg\" height=\"24px\"viewBox=\"0 0 24 24\"\n",
              "     width=\"24px\">\n",
              "    <g>\n",
              "        <path d=\"M19 3H5c-1.1 0-2 .9-2 2v14c0 1.1.9 2 2 2h14c1.1 0 2-.9 2-2V5c0-1.1-.9-2-2-2zM9 17H7v-7h2v7zm4 0h-2V7h2v10zm4 0h-2v-4h2v4z\"/>\n",
              "    </g>\n",
              "</svg>\n",
              "  </button>\n",
              "\n",
              "<style>\n",
              "  .colab-df-quickchart {\n",
              "      --bg-color: #E8F0FE;\n",
              "      --fill-color: #1967D2;\n",
              "      --hover-bg-color: #E2EBFA;\n",
              "      --hover-fill-color: #174EA6;\n",
              "      --disabled-fill-color: #AAA;\n",
              "      --disabled-bg-color: #DDD;\n",
              "  }\n",
              "\n",
              "  [theme=dark] .colab-df-quickchart {\n",
              "      --bg-color: #3B4455;\n",
              "      --fill-color: #D2E3FC;\n",
              "      --hover-bg-color: #434B5C;\n",
              "      --hover-fill-color: #FFFFFF;\n",
              "      --disabled-bg-color: #3B4455;\n",
              "      --disabled-fill-color: #666;\n",
              "  }\n",
              "\n",
              "  .colab-df-quickchart {\n",
              "    background-color: var(--bg-color);\n",
              "    border: none;\n",
              "    border-radius: 50%;\n",
              "    cursor: pointer;\n",
              "    display: none;\n",
              "    fill: var(--fill-color);\n",
              "    height: 32px;\n",
              "    padding: 0;\n",
              "    width: 32px;\n",
              "  }\n",
              "\n",
              "  .colab-df-quickchart:hover {\n",
              "    background-color: var(--hover-bg-color);\n",
              "    box-shadow: 0 1px 2px rgba(60, 64, 67, 0.3), 0 1px 3px 1px rgba(60, 64, 67, 0.15);\n",
              "    fill: var(--button-hover-fill-color);\n",
              "  }\n",
              "\n",
              "  .colab-df-quickchart-complete:disabled,\n",
              "  .colab-df-quickchart-complete:disabled:hover {\n",
              "    background-color: var(--disabled-bg-color);\n",
              "    fill: var(--disabled-fill-color);\n",
              "    box-shadow: none;\n",
              "  }\n",
              "\n",
              "  .colab-df-spinner {\n",
              "    border: 2px solid var(--fill-color);\n",
              "    border-color: transparent;\n",
              "    border-bottom-color: var(--fill-color);\n",
              "    animation:\n",
              "      spin 1s steps(1) infinite;\n",
              "  }\n",
              "\n",
              "  @keyframes spin {\n",
              "    0% {\n",
              "      border-color: transparent;\n",
              "      border-bottom-color: var(--fill-color);\n",
              "      border-left-color: var(--fill-color);\n",
              "    }\n",
              "    20% {\n",
              "      border-color: transparent;\n",
              "      border-left-color: var(--fill-color);\n",
              "      border-top-color: var(--fill-color);\n",
              "    }\n",
              "    30% {\n",
              "      border-color: transparent;\n",
              "      border-left-color: var(--fill-color);\n",
              "      border-top-color: var(--fill-color);\n",
              "      border-right-color: var(--fill-color);\n",
              "    }\n",
              "    40% {\n",
              "      border-color: transparent;\n",
              "      border-right-color: var(--fill-color);\n",
              "      border-top-color: var(--fill-color);\n",
              "    }\n",
              "    60% {\n",
              "      border-color: transparent;\n",
              "      border-right-color: var(--fill-color);\n",
              "    }\n",
              "    80% {\n",
              "      border-color: transparent;\n",
              "      border-right-color: var(--fill-color);\n",
              "      border-bottom-color: var(--fill-color);\n",
              "    }\n",
              "    90% {\n",
              "      border-color: transparent;\n",
              "      border-bottom-color: var(--fill-color);\n",
              "    }\n",
              "  }\n",
              "</style>\n",
              "\n",
              "  <script>\n",
              "    async function quickchart(key) {\n",
              "      const quickchartButtonEl =\n",
              "        document.querySelector('#' + key + ' button');\n",
              "      quickchartButtonEl.disabled = true;  // To prevent multiple clicks.\n",
              "      quickchartButtonEl.classList.add('colab-df-spinner');\n",
              "      try {\n",
              "        const charts = await google.colab.kernel.invokeFunction(\n",
              "            'suggestCharts', [key], {});\n",
              "      } catch (error) {\n",
              "        console.error('Error during call to suggestCharts:', error);\n",
              "      }\n",
              "      quickchartButtonEl.classList.remove('colab-df-spinner');\n",
              "      quickchartButtonEl.classList.add('colab-df-quickchart-complete');\n",
              "    }\n",
              "    (() => {\n",
              "      let quickchartButtonEl =\n",
              "        document.querySelector('#df-e623ee23-3534-4679-80ff-877bb4ef04b7 button');\n",
              "      quickchartButtonEl.style.display =\n",
              "        google.colab.kernel.accessAllowed ? 'block' : 'none';\n",
              "    })();\n",
              "  </script>\n",
              "</div>\n",
              "\n",
              "    </div>\n",
              "  </div>\n"
            ],
            "application/vnd.google.colaboratory.intrinsic+json": {
              "type": "dataframe",
              "variable_name": "diamonds"
            }
          },
          "metadata": {},
          "execution_count": 44
        }
      ],
      "source": [
        "label_encoder = LabelEncoder()\n",
        "\n",
        "\n",
        "for col in diamonds:\n",
        "    diamonds[str(col)] = label_encoder.fit_transform(diamonds[str(col)])\n",
        "\n",
        "\n",
        "diamonds = pd.get_dummies(diamonds, columns=['color', 'clarity'])\n",
        "\n",
        "diamonds.head()"
      ]
    },
    {
      "cell_type": "code",
      "execution_count": null,
      "id": "-dtv1_tAOc-U",
      "metadata": {
        "id": "-dtv1_tAOc-U"
      },
      "outputs": [],
      "source": [
        "median_price = diamonds['price'].median()\n",
        "\n",
        "diamonds['price_above_median'] = 0\n",
        "\n",
        "for i, price in enumerate(diamonds['price']):\n",
        "    if price > median_price:\n",
        "        diamonds.at[i, 'price_above_median'] = 1\n",
        "    else:\n",
        "        diamonds.at[i, 'price_above_median'] = 0\n"
      ]
    },
    {
      "cell_type": "code",
      "source": [
        "X = diamonds.drop(columns=['price', 'price_above_median'])\n",
        "y = diamonds['price_above_median']\n",
        "\n",
        "X_train, X_test, y_train, y_test = train_test_split(X, y, test_size=0.2, random_state=42)\n"
      ],
      "metadata": {
        "id": "d50yeaoCx1Y9"
      },
      "id": "d50yeaoCx1Y9",
      "execution_count": null,
      "outputs": []
    },
    {
      "cell_type": "code",
      "source": [
        "# Modelo 1: SVM Linear\n",
        "svm_linear = SVC(kernel='linear', random_state=42)\n",
        "svm_linear.fit(X_train, y_train)\n",
        "y_pred_linear = svm_linear.predict(X_test)\n",
        "acc_linear = accuracy_score(y_test, y_pred_linear)\n",
        "\n",
        "# Modelo 2: SVM RBF\n",
        "svm_rbf = SVC(kernel='rbf', random_state=42)\n",
        "svm_rbf.fit(X_train, y_train)\n",
        "y_pred_rbf = svm_rbf.predict(X_test)\n",
        "acc_rbf = accuracy_score(y_test, y_pred_rbf)\n",
        "\n",
        "print(f'Acurácia SVM Linear: {acc_linear:.4f}')\n",
        "print(f'Acurácia SVM RBF: {acc_rbf:.4f}')\n"
      ],
      "metadata": {
        "colab": {
          "base_uri": "https://localhost:8080/"
        },
        "id": "gBKLTKaVx6Fs",
        "outputId": "70e07b02-fff7-40a4-d8a3-bde2600f1059"
      },
      "id": "gBKLTKaVx6Fs",
      "execution_count": null,
      "outputs": [
        {
          "output_type": "stream",
          "name": "stdout",
          "text": [
            "Acurácia SVM Linear: 0.9765\n",
            "Acurácia SVM RBF: 0.9535\n"
          ]
        }
      ]
    }
  ],
  "metadata": {
    "colab": {
      "provenance": [],
      "include_colab_link": true
    },
    "kernelspec": {
      "display_name": "Python 3",
      "name": "python3"
    },
    "language_info": {
      "name": "python"
    }
  },
  "nbformat": 4,
  "nbformat_minor": 5
}